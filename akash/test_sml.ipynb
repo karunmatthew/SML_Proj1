{
 "cells": [
  {
   "cell_type": "code",
   "execution_count": null,
   "metadata": {},
   "outputs": [],
   "source": [
    "from gensim.models import Word2Vec\n",
    "import sys\n",
    "\n",
    "TRAINING_FILE_PATH = '/home/student.unimelb.edu.au/kvarghesemat/PycharmProjects/SML/train.txt'\n",
    "TESTING_FILE_PATH = '/home/student.unimelb.edu.au/kvarghesemat/PycharmProjects/SML/test-public.txt'\n",
    "READ = \"r\"\n",
    "WRITE = \"w\"\n",
    "OUT_FILE_PATH = '/home/student.unimelb.edu.au/kvarghesemat/PycharmProjects/SML/sample.csv'\n",
    "\n",
    "outfile = open(OUT_FILE_PATH, WRITE)\n",
    "\n",
    "# Load the word2vec model\n",
    "model = Word2Vec.load(\"/home/student.unimelb.edu.au/kvarghesemat/PycharmProjects/SML/rw2\")\n",
    "train_data = open(TRAINING_FILE_PATH, READ)\n",
    "\n",
    "# None marker, indicates that processing did not happen\n",
    "NULL = -5\n",
    "\n",
    "outfile.write('Id,Predicted' + '\\n')\n",
    "\n",
    "sink2sources = {}\n",
    "source2sinks = {}\n",
    "source2sink_counts = {}\n",
    "\n",
    "# compares the similarity of source,\n",
    "def get_source_as_sink_similarity(source, sink):\n",
    "\n",
    "    connected_sinks = source2sinks[source]\n",
    "\n",
    "    c_sinks = 0\n",
    "    total_sim = 0\n",
    "\n",
    "    for connected_sink in connected_sinks:\n",
    "        if connected_sink in model.wv.vocab:\n",
    "            c_sinks += 1\n",
    "            # print('-----', model.wv.similarity(connected_sink, sink))\n",
    "            total_sim = total_sim + model.wv.similarity(connected_sink, sink)\n",
    "\n",
    "    # print(c_sinks)\n",
    "\n",
    "    if c_sinks > 0:\n",
    "        return total_sim/c_sinks\n",
    "    else:\n",
    "        return -5\n",
    "\n"
   ]
  }
 ],
 "metadata": {
  "kernelspec": {
   "display_name": "Python 3",
   "language": "python",
   "name": "python3"
  },
  "language_info": {
   "codemirror_mode": {
    "name": "ipython",
    "version": 3
   },
   "file_extension": ".py",
   "mimetype": "text/x-python",
   "name": "python",
   "nbconvert_exporter": "python",
   "pygments_lexer": "ipython3",
   "version": "3.8.3"
  }
 },
 "nbformat": 4,
 "nbformat_minor": 4
}
